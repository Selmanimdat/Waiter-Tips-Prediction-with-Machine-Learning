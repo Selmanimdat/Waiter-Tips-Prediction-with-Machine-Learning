{
 "cells": [
  {
   "cell_type": "markdown",
   "id": "65af989b",
   "metadata": {},
   "source": [
    "# Waiter Tips Prediction with Machine Learning"
   ]
  },
  {
   "cell_type": "code",
   "execution_count": 4,
   "id": "0c4cd761",
   "metadata": {},
   "outputs": [],
   "source": [
    "# Waiter Tips Prediction with Machine Learning project"
   ]
  },
  {
   "cell_type": "code",
   "execution_count": 5,
   "id": "27c0e07e",
   "metadata": {},
   "outputs": [],
   "source": [
    "#libraires"
   ]
  },
  {
   "cell_type": "code",
   "execution_count": 27,
   "id": "3fd48378",
   "metadata": {},
   "outputs": [],
   "source": [
    "import pandas  as pd\n",
    "from pycaret.regression import*\n",
    "import joblib"
   ]
  },
  {
   "cell_type": "code",
   "execution_count": 6,
   "id": "48675685",
   "metadata": {},
   "outputs": [],
   "source": [
    "#take data"
   ]
  },
  {
   "cell_type": "code",
   "execution_count": 12,
   "id": "d5c21a96",
   "metadata": {},
   "outputs": [],
   "source": [
    "df=pd.read_clipboard(sep=\",\")"
   ]
  },
  {
   "cell_type": "code",
   "execution_count": 13,
   "id": "ded94774",
   "metadata": {},
   "outputs": [],
   "source": [
    "# EDA"
   ]
  },
  {
   "cell_type": "code",
   "execution_count": 14,
   "id": "7a596654",
   "metadata": {},
   "outputs": [
    {
     "data": {
      "text/html": [
       "<div>\n",
       "<style scoped>\n",
       "    .dataframe tbody tr th:only-of-type {\n",
       "        vertical-align: middle;\n",
       "    }\n",
       "\n",
       "    .dataframe tbody tr th {\n",
       "        vertical-align: top;\n",
       "    }\n",
       "\n",
       "    .dataframe thead th {\n",
       "        text-align: right;\n",
       "    }\n",
       "</style>\n",
       "<table border=\"1\" class=\"dataframe\">\n",
       "  <thead>\n",
       "    <tr style=\"text-align: right;\">\n",
       "      <th></th>\n",
       "      <th>total_bill</th>\n",
       "      <th>tip</th>\n",
       "      <th>sex</th>\n",
       "      <th>smoker</th>\n",
       "      <th>day</th>\n",
       "      <th>time</th>\n",
       "      <th>size</th>\n",
       "    </tr>\n",
       "  </thead>\n",
       "  <tbody>\n",
       "    <tr>\n",
       "      <th>0</th>\n",
       "      <td>16.99</td>\n",
       "      <td>1.01</td>\n",
       "      <td>Female</td>\n",
       "      <td>No</td>\n",
       "      <td>Sun</td>\n",
       "      <td>Dinner</td>\n",
       "      <td>2</td>\n",
       "    </tr>\n",
       "    <tr>\n",
       "      <th>1</th>\n",
       "      <td>10.34</td>\n",
       "      <td>1.66</td>\n",
       "      <td>Male</td>\n",
       "      <td>No</td>\n",
       "      <td>Sun</td>\n",
       "      <td>Dinner</td>\n",
       "      <td>3</td>\n",
       "    </tr>\n",
       "    <tr>\n",
       "      <th>2</th>\n",
       "      <td>21.01</td>\n",
       "      <td>3.50</td>\n",
       "      <td>Male</td>\n",
       "      <td>No</td>\n",
       "      <td>Sun</td>\n",
       "      <td>Dinner</td>\n",
       "      <td>3</td>\n",
       "    </tr>\n",
       "    <tr>\n",
       "      <th>3</th>\n",
       "      <td>23.68</td>\n",
       "      <td>3.31</td>\n",
       "      <td>Male</td>\n",
       "      <td>No</td>\n",
       "      <td>Sun</td>\n",
       "      <td>Dinner</td>\n",
       "      <td>2</td>\n",
       "    </tr>\n",
       "    <tr>\n",
       "      <th>4</th>\n",
       "      <td>24.59</td>\n",
       "      <td>3.61</td>\n",
       "      <td>Female</td>\n",
       "      <td>No</td>\n",
       "      <td>Sun</td>\n",
       "      <td>Dinner</td>\n",
       "      <td>4</td>\n",
       "    </tr>\n",
       "  </tbody>\n",
       "</table>\n",
       "</div>"
      ],
      "text/plain": [
       "   total_bill   tip     sex smoker  day    time  size\n",
       "0       16.99  1.01  Female     No  Sun  Dinner     2\n",
       "1       10.34  1.66    Male     No  Sun  Dinner     3\n",
       "2       21.01  3.50    Male     No  Sun  Dinner     3\n",
       "3       23.68  3.31    Male     No  Sun  Dinner     2\n",
       "4       24.59  3.61  Female     No  Sun  Dinner     4"
      ]
     },
     "execution_count": 14,
     "metadata": {},
     "output_type": "execute_result"
    }
   ],
   "source": [
    "df.head()"
   ]
  },
  {
   "cell_type": "code",
   "execution_count": 15,
   "id": "4e5e8431",
   "metadata": {},
   "outputs": [],
   "source": [
    "#see last 5 cell"
   ]
  },
  {
   "cell_type": "code",
   "execution_count": 16,
   "id": "7ead5e9a",
   "metadata": {},
   "outputs": [
    {
     "data": {
      "text/html": [
       "<div>\n",
       "<style scoped>\n",
       "    .dataframe tbody tr th:only-of-type {\n",
       "        vertical-align: middle;\n",
       "    }\n",
       "\n",
       "    .dataframe tbody tr th {\n",
       "        vertical-align: top;\n",
       "    }\n",
       "\n",
       "    .dataframe thead th {\n",
       "        text-align: right;\n",
       "    }\n",
       "</style>\n",
       "<table border=\"1\" class=\"dataframe\">\n",
       "  <thead>\n",
       "    <tr style=\"text-align: right;\">\n",
       "      <th></th>\n",
       "      <th>total_bill</th>\n",
       "      <th>tip</th>\n",
       "      <th>sex</th>\n",
       "      <th>smoker</th>\n",
       "      <th>day</th>\n",
       "      <th>time</th>\n",
       "      <th>size</th>\n",
       "    </tr>\n",
       "  </thead>\n",
       "  <tbody>\n",
       "    <tr>\n",
       "      <th>239</th>\n",
       "      <td>29.03</td>\n",
       "      <td>5.92</td>\n",
       "      <td>Male</td>\n",
       "      <td>No</td>\n",
       "      <td>Sat</td>\n",
       "      <td>Dinner</td>\n",
       "      <td>3</td>\n",
       "    </tr>\n",
       "    <tr>\n",
       "      <th>240</th>\n",
       "      <td>27.18</td>\n",
       "      <td>2.00</td>\n",
       "      <td>Female</td>\n",
       "      <td>Yes</td>\n",
       "      <td>Sat</td>\n",
       "      <td>Dinner</td>\n",
       "      <td>2</td>\n",
       "    </tr>\n",
       "    <tr>\n",
       "      <th>241</th>\n",
       "      <td>22.67</td>\n",
       "      <td>2.00</td>\n",
       "      <td>Male</td>\n",
       "      <td>Yes</td>\n",
       "      <td>Sat</td>\n",
       "      <td>Dinner</td>\n",
       "      <td>2</td>\n",
       "    </tr>\n",
       "    <tr>\n",
       "      <th>242</th>\n",
       "      <td>17.82</td>\n",
       "      <td>1.75</td>\n",
       "      <td>Male</td>\n",
       "      <td>No</td>\n",
       "      <td>Sat</td>\n",
       "      <td>Dinner</td>\n",
       "      <td>2</td>\n",
       "    </tr>\n",
       "    <tr>\n",
       "      <th>243</th>\n",
       "      <td>18.78</td>\n",
       "      <td>3.00</td>\n",
       "      <td>Female</td>\n",
       "      <td>No</td>\n",
       "      <td>Thur</td>\n",
       "      <td>Dinner</td>\n",
       "      <td>2</td>\n",
       "    </tr>\n",
       "  </tbody>\n",
       "</table>\n",
       "</div>"
      ],
      "text/plain": [
       "     total_bill   tip     sex smoker   day    time  size\n",
       "239       29.03  5.92    Male     No   Sat  Dinner     3\n",
       "240       27.18  2.00  Female    Yes   Sat  Dinner     2\n",
       "241       22.67  2.00    Male    Yes   Sat  Dinner     2\n",
       "242       17.82  1.75    Male     No   Sat  Dinner     2\n",
       "243       18.78  3.00  Female     No  Thur  Dinner     2"
      ]
     },
     "execution_count": 16,
     "metadata": {},
     "output_type": "execute_result"
    }
   ],
   "source": [
    "df.tail()"
   ]
  },
  {
   "cell_type": "code",
   "execution_count": 17,
   "id": "55b2a8f9",
   "metadata": {},
   "outputs": [],
   "source": [
    "# see data info"
   ]
  },
  {
   "cell_type": "code",
   "execution_count": 18,
   "id": "f3110c7f",
   "metadata": {},
   "outputs": [
    {
     "name": "stdout",
     "output_type": "stream",
     "text": [
      "<class 'pandas.core.frame.DataFrame'>\n",
      "RangeIndex: 244 entries, 0 to 243\n",
      "Data columns (total 7 columns):\n",
      " #   Column      Non-Null Count  Dtype  \n",
      "---  ------      --------------  -----  \n",
      " 0   total_bill  244 non-null    float64\n",
      " 1   tip         244 non-null    float64\n",
      " 2   sex         244 non-null    object \n",
      " 3   smoker      244 non-null    object \n",
      " 4   day         244 non-null    object \n",
      " 5   time        244 non-null    object \n",
      " 6   size        244 non-null    int64  \n",
      "dtypes: float64(2), int64(1), object(4)\n",
      "memory usage: 13.5+ KB\n"
     ]
    }
   ],
   "source": [
    "df.info()"
   ]
  },
  {
   "cell_type": "code",
   "execution_count": 19,
   "id": "edd53df0",
   "metadata": {},
   "outputs": [],
   "source": [
    "#see df shape"
   ]
  },
  {
   "cell_type": "code",
   "execution_count": 20,
   "id": "59a05907",
   "metadata": {},
   "outputs": [
    {
     "data": {
      "text/plain": [
       "(244, 7)"
      ]
     },
     "execution_count": 20,
     "metadata": {},
     "output_type": "execute_result"
    }
   ],
   "source": [
    "df.shape"
   ]
  },
  {
   "cell_type": "code",
   "execution_count": 21,
   "id": "f41dc0b7",
   "metadata": {},
   "outputs": [],
   "source": [
    "#see df corelations"
   ]
  },
  {
   "cell_type": "code",
   "execution_count": 22,
   "id": "aa5d1907",
   "metadata": {},
   "outputs": [
    {
     "data": {
      "text/html": [
       "<div>\n",
       "<style scoped>\n",
       "    .dataframe tbody tr th:only-of-type {\n",
       "        vertical-align: middle;\n",
       "    }\n",
       "\n",
       "    .dataframe tbody tr th {\n",
       "        vertical-align: top;\n",
       "    }\n",
       "\n",
       "    .dataframe thead th {\n",
       "        text-align: right;\n",
       "    }\n",
       "</style>\n",
       "<table border=\"1\" class=\"dataframe\">\n",
       "  <thead>\n",
       "    <tr style=\"text-align: right;\">\n",
       "      <th></th>\n",
       "      <th>total_bill</th>\n",
       "      <th>tip</th>\n",
       "      <th>size</th>\n",
       "    </tr>\n",
       "  </thead>\n",
       "  <tbody>\n",
       "    <tr>\n",
       "      <th>total_bill</th>\n",
       "      <td>1.000000</td>\n",
       "      <td>0.675734</td>\n",
       "      <td>0.598315</td>\n",
       "    </tr>\n",
       "    <tr>\n",
       "      <th>tip</th>\n",
       "      <td>0.675734</td>\n",
       "      <td>1.000000</td>\n",
       "      <td>0.489299</td>\n",
       "    </tr>\n",
       "    <tr>\n",
       "      <th>size</th>\n",
       "      <td>0.598315</td>\n",
       "      <td>0.489299</td>\n",
       "      <td>1.000000</td>\n",
       "    </tr>\n",
       "  </tbody>\n",
       "</table>\n",
       "</div>"
      ],
      "text/plain": [
       "            total_bill       tip      size\n",
       "total_bill    1.000000  0.675734  0.598315\n",
       "tip           0.675734  1.000000  0.489299\n",
       "size          0.598315  0.489299  1.000000"
      ]
     },
     "execution_count": 22,
     "metadata": {},
     "output_type": "execute_result"
    }
   ],
   "source": [
    "df.corr()"
   ]
  },
  {
   "cell_type": "code",
   "execution_count": 23,
   "id": "d55ef711",
   "metadata": {},
   "outputs": [],
   "source": [
    "# we see most important column is time_study"
   ]
  },
  {
   "cell_type": "code",
   "execution_count": 24,
   "id": "48239e5e",
   "metadata": {},
   "outputs": [],
   "source": [
    "# see null columns"
   ]
  },
  {
   "cell_type": "code",
   "execution_count": 25,
   "id": "8ee6e448",
   "metadata": {},
   "outputs": [
    {
     "data": {
      "text/plain": [
       "total_bill    0\n",
       "tip           0\n",
       "sex           0\n",
       "smoker        0\n",
       "day           0\n",
       "time          0\n",
       "size          0\n",
       "dtype: int64"
      ]
     },
     "execution_count": 25,
     "metadata": {},
     "output_type": "execute_result"
    }
   ],
   "source": [
    "df.isnull().sum()"
   ]
  },
  {
   "cell_type": "markdown",
   "id": "fa0f7749",
   "metadata": {},
   "source": [
    "### modeling"
   ]
  },
  {
   "cell_type": "code",
   "execution_count": 26,
   "id": "62ed329b",
   "metadata": {},
   "outputs": [],
   "source": [
    "# setup model"
   ]
  },
  {
   "cell_type": "code",
   "execution_count": 28,
   "id": "97c9f85d",
   "metadata": {},
   "outputs": [
    {
     "data": {
      "text/html": [
       "<style type=\"text/css\">\n",
       "#T_c5bec_row10_col1 {\n",
       "  background-color: lightgreen;\n",
       "}\n",
       "</style>\n",
       "<table id=\"T_c5bec_\">\n",
       "  <thead>\n",
       "    <tr>\n",
       "      <th class=\"blank level0\" >&nbsp;</th>\n",
       "      <th class=\"col_heading level0 col0\" >Description</th>\n",
       "      <th class=\"col_heading level0 col1\" >Value</th>\n",
       "    </tr>\n",
       "  </thead>\n",
       "  <tbody>\n",
       "    <tr>\n",
       "      <th id=\"T_c5bec_level0_row0\" class=\"row_heading level0 row0\" >0</th>\n",
       "      <td id=\"T_c5bec_row0_col0\" class=\"data row0 col0\" >Session id</td>\n",
       "      <td id=\"T_c5bec_row0_col1\" class=\"data row0 col1\" >7338</td>\n",
       "    </tr>\n",
       "    <tr>\n",
       "      <th id=\"T_c5bec_level0_row1\" class=\"row_heading level0 row1\" >1</th>\n",
       "      <td id=\"T_c5bec_row1_col0\" class=\"data row1 col0\" >Target</td>\n",
       "      <td id=\"T_c5bec_row1_col1\" class=\"data row1 col1\" >total_bill</td>\n",
       "    </tr>\n",
       "    <tr>\n",
       "      <th id=\"T_c5bec_level0_row2\" class=\"row_heading level0 row2\" >2</th>\n",
       "      <td id=\"T_c5bec_row2_col0\" class=\"data row2 col0\" >Target type</td>\n",
       "      <td id=\"T_c5bec_row2_col1\" class=\"data row2 col1\" >Regression</td>\n",
       "    </tr>\n",
       "    <tr>\n",
       "      <th id=\"T_c5bec_level0_row3\" class=\"row_heading level0 row3\" >3</th>\n",
       "      <td id=\"T_c5bec_row3_col0\" class=\"data row3 col0\" >Original data shape</td>\n",
       "      <td id=\"T_c5bec_row3_col1\" class=\"data row3 col1\" >(244, 7)</td>\n",
       "    </tr>\n",
       "    <tr>\n",
       "      <th id=\"T_c5bec_level0_row4\" class=\"row_heading level0 row4\" >4</th>\n",
       "      <td id=\"T_c5bec_row4_col0\" class=\"data row4 col0\" >Transformed data shape</td>\n",
       "      <td id=\"T_c5bec_row4_col1\" class=\"data row4 col1\" >(244, 10)</td>\n",
       "    </tr>\n",
       "    <tr>\n",
       "      <th id=\"T_c5bec_level0_row5\" class=\"row_heading level0 row5\" >5</th>\n",
       "      <td id=\"T_c5bec_row5_col0\" class=\"data row5 col0\" >Transformed train set shape</td>\n",
       "      <td id=\"T_c5bec_row5_col1\" class=\"data row5 col1\" >(170, 10)</td>\n",
       "    </tr>\n",
       "    <tr>\n",
       "      <th id=\"T_c5bec_level0_row6\" class=\"row_heading level0 row6\" >6</th>\n",
       "      <td id=\"T_c5bec_row6_col0\" class=\"data row6 col0\" >Transformed test set shape</td>\n",
       "      <td id=\"T_c5bec_row6_col1\" class=\"data row6 col1\" >(74, 10)</td>\n",
       "    </tr>\n",
       "    <tr>\n",
       "      <th id=\"T_c5bec_level0_row7\" class=\"row_heading level0 row7\" >7</th>\n",
       "      <td id=\"T_c5bec_row7_col0\" class=\"data row7 col0\" >Ordinal features</td>\n",
       "      <td id=\"T_c5bec_row7_col1\" class=\"data row7 col1\" >3</td>\n",
       "    </tr>\n",
       "    <tr>\n",
       "      <th id=\"T_c5bec_level0_row8\" class=\"row_heading level0 row8\" >8</th>\n",
       "      <td id=\"T_c5bec_row8_col0\" class=\"data row8 col0\" >Numeric features</td>\n",
       "      <td id=\"T_c5bec_row8_col1\" class=\"data row8 col1\" >2</td>\n",
       "    </tr>\n",
       "    <tr>\n",
       "      <th id=\"T_c5bec_level0_row9\" class=\"row_heading level0 row9\" >9</th>\n",
       "      <td id=\"T_c5bec_row9_col0\" class=\"data row9 col0\" >Categorical features</td>\n",
       "      <td id=\"T_c5bec_row9_col1\" class=\"data row9 col1\" >4</td>\n",
       "    </tr>\n",
       "    <tr>\n",
       "      <th id=\"T_c5bec_level0_row10\" class=\"row_heading level0 row10\" >10</th>\n",
       "      <td id=\"T_c5bec_row10_col0\" class=\"data row10 col0\" >Preprocess</td>\n",
       "      <td id=\"T_c5bec_row10_col1\" class=\"data row10 col1\" >True</td>\n",
       "    </tr>\n",
       "    <tr>\n",
       "      <th id=\"T_c5bec_level0_row11\" class=\"row_heading level0 row11\" >11</th>\n",
       "      <td id=\"T_c5bec_row11_col0\" class=\"data row11 col0\" >Imputation type</td>\n",
       "      <td id=\"T_c5bec_row11_col1\" class=\"data row11 col1\" >simple</td>\n",
       "    </tr>\n",
       "    <tr>\n",
       "      <th id=\"T_c5bec_level0_row12\" class=\"row_heading level0 row12\" >12</th>\n",
       "      <td id=\"T_c5bec_row12_col0\" class=\"data row12 col0\" >Numeric imputation</td>\n",
       "      <td id=\"T_c5bec_row12_col1\" class=\"data row12 col1\" >mean</td>\n",
       "    </tr>\n",
       "    <tr>\n",
       "      <th id=\"T_c5bec_level0_row13\" class=\"row_heading level0 row13\" >13</th>\n",
       "      <td id=\"T_c5bec_row13_col0\" class=\"data row13 col0\" >Categorical imputation</td>\n",
       "      <td id=\"T_c5bec_row13_col1\" class=\"data row13 col1\" >mode</td>\n",
       "    </tr>\n",
       "    <tr>\n",
       "      <th id=\"T_c5bec_level0_row14\" class=\"row_heading level0 row14\" >14</th>\n",
       "      <td id=\"T_c5bec_row14_col0\" class=\"data row14 col0\" >Maximum one-hot encoding</td>\n",
       "      <td id=\"T_c5bec_row14_col1\" class=\"data row14 col1\" >25</td>\n",
       "    </tr>\n",
       "    <tr>\n",
       "      <th id=\"T_c5bec_level0_row15\" class=\"row_heading level0 row15\" >15</th>\n",
       "      <td id=\"T_c5bec_row15_col0\" class=\"data row15 col0\" >Encoding method</td>\n",
       "      <td id=\"T_c5bec_row15_col1\" class=\"data row15 col1\" >None</td>\n",
       "    </tr>\n",
       "    <tr>\n",
       "      <th id=\"T_c5bec_level0_row16\" class=\"row_heading level0 row16\" >16</th>\n",
       "      <td id=\"T_c5bec_row16_col0\" class=\"data row16 col0\" >Fold Generator</td>\n",
       "      <td id=\"T_c5bec_row16_col1\" class=\"data row16 col1\" >KFold</td>\n",
       "    </tr>\n",
       "    <tr>\n",
       "      <th id=\"T_c5bec_level0_row17\" class=\"row_heading level0 row17\" >17</th>\n",
       "      <td id=\"T_c5bec_row17_col0\" class=\"data row17 col0\" >Fold Number</td>\n",
       "      <td id=\"T_c5bec_row17_col1\" class=\"data row17 col1\" >10</td>\n",
       "    </tr>\n",
       "    <tr>\n",
       "      <th id=\"T_c5bec_level0_row18\" class=\"row_heading level0 row18\" >18</th>\n",
       "      <td id=\"T_c5bec_row18_col0\" class=\"data row18 col0\" >CPU Jobs</td>\n",
       "      <td id=\"T_c5bec_row18_col1\" class=\"data row18 col1\" >-1</td>\n",
       "    </tr>\n",
       "    <tr>\n",
       "      <th id=\"T_c5bec_level0_row19\" class=\"row_heading level0 row19\" >19</th>\n",
       "      <td id=\"T_c5bec_row19_col0\" class=\"data row19 col0\" >Use GPU</td>\n",
       "      <td id=\"T_c5bec_row19_col1\" class=\"data row19 col1\" >False</td>\n",
       "    </tr>\n",
       "    <tr>\n",
       "      <th id=\"T_c5bec_level0_row20\" class=\"row_heading level0 row20\" >20</th>\n",
       "      <td id=\"T_c5bec_row20_col0\" class=\"data row20 col0\" >Log Experiment</td>\n",
       "      <td id=\"T_c5bec_row20_col1\" class=\"data row20 col1\" >False</td>\n",
       "    </tr>\n",
       "    <tr>\n",
       "      <th id=\"T_c5bec_level0_row21\" class=\"row_heading level0 row21\" >21</th>\n",
       "      <td id=\"T_c5bec_row21_col0\" class=\"data row21 col0\" >Experiment Name</td>\n",
       "      <td id=\"T_c5bec_row21_col1\" class=\"data row21 col1\" >reg-default-name</td>\n",
       "    </tr>\n",
       "    <tr>\n",
       "      <th id=\"T_c5bec_level0_row22\" class=\"row_heading level0 row22\" >22</th>\n",
       "      <td id=\"T_c5bec_row22_col0\" class=\"data row22 col0\" >USI</td>\n",
       "      <td id=\"T_c5bec_row22_col1\" class=\"data row22 col1\" >0029</td>\n",
       "    </tr>\n",
       "  </tbody>\n",
       "</table>\n"
      ],
      "text/plain": [
       "<pandas.io.formats.style.Styler at 0x1ec3b52ab20>"
      ]
     },
     "metadata": {},
     "output_type": "display_data"
    },
    {
     "data": {
      "text/plain": [
       "<pycaret.regression.oop.RegressionExperiment at 0x1ec259daa90>"
      ]
     },
     "execution_count": 28,
     "metadata": {},
     "output_type": "execute_result"
    }
   ],
   "source": [
    "setup(data=df,target='total_bill')"
   ]
  },
  {
   "cell_type": "code",
   "execution_count": 29,
   "id": "ae31df28",
   "metadata": {},
   "outputs": [],
   "source": [
    "# model compare (find best model)"
   ]
  },
  {
   "cell_type": "code",
   "execution_count": 30,
   "id": "bcfef1bf",
   "metadata": {},
   "outputs": [
    {
     "data": {
      "text/html": [],
      "text/plain": [
       "<IPython.core.display.HTML object>"
      ]
     },
     "metadata": {},
     "output_type": "display_data"
    },
    {
     "data": {
      "text/html": [
       "<style type=\"text/css\">\n",
       "#T_5658d_ th {\n",
       "  text-align: left;\n",
       "}\n",
       "#T_5658d_row0_col0, #T_5658d_row0_col1, #T_5658d_row0_col5, #T_5658d_row0_col6, #T_5658d_row1_col0, #T_5658d_row1_col1, #T_5658d_row1_col2, #T_5658d_row1_col3, #T_5658d_row1_col4, #T_5658d_row1_col5, #T_5658d_row1_col6, #T_5658d_row2_col0, #T_5658d_row2_col1, #T_5658d_row2_col2, #T_5658d_row2_col3, #T_5658d_row2_col4, #T_5658d_row2_col5, #T_5658d_row2_col6, #T_5658d_row3_col0, #T_5658d_row3_col1, #T_5658d_row3_col2, #T_5658d_row3_col3, #T_5658d_row3_col4, #T_5658d_row3_col5, #T_5658d_row3_col6, #T_5658d_row4_col0, #T_5658d_row4_col1, #T_5658d_row4_col2, #T_5658d_row4_col3, #T_5658d_row4_col4, #T_5658d_row4_col5, #T_5658d_row4_col6, #T_5658d_row5_col0, #T_5658d_row5_col1, #T_5658d_row5_col2, #T_5658d_row5_col3, #T_5658d_row5_col4, #T_5658d_row5_col5, #T_5658d_row5_col6, #T_5658d_row6_col0, #T_5658d_row6_col1, #T_5658d_row6_col2, #T_5658d_row6_col3, #T_5658d_row6_col4, #T_5658d_row6_col5, #T_5658d_row6_col6, #T_5658d_row7_col0, #T_5658d_row7_col2, #T_5658d_row7_col3, #T_5658d_row7_col4, #T_5658d_row8_col0, #T_5658d_row8_col1, #T_5658d_row8_col2, #T_5658d_row8_col3, #T_5658d_row8_col4, #T_5658d_row8_col5, #T_5658d_row8_col6, #T_5658d_row9_col0, #T_5658d_row9_col1, #T_5658d_row9_col2, #T_5658d_row9_col3, #T_5658d_row9_col4, #T_5658d_row9_col5, #T_5658d_row9_col6, #T_5658d_row10_col0, #T_5658d_row10_col1, #T_5658d_row10_col2, #T_5658d_row10_col3, #T_5658d_row10_col4, #T_5658d_row10_col5, #T_5658d_row10_col6, #T_5658d_row11_col0, #T_5658d_row11_col1, #T_5658d_row11_col2, #T_5658d_row11_col3, #T_5658d_row11_col4, #T_5658d_row11_col5, #T_5658d_row11_col6, #T_5658d_row12_col0, #T_5658d_row12_col1, #T_5658d_row12_col2, #T_5658d_row12_col3, #T_5658d_row12_col4, #T_5658d_row12_col5, #T_5658d_row12_col6, #T_5658d_row13_col0, #T_5658d_row13_col1, #T_5658d_row13_col2, #T_5658d_row13_col3, #T_5658d_row13_col4, #T_5658d_row13_col5, #T_5658d_row13_col6, #T_5658d_row14_col0, #T_5658d_row14_col1, #T_5658d_row14_col2, #T_5658d_row14_col3, #T_5658d_row14_col4, #T_5658d_row14_col5, #T_5658d_row14_col6, #T_5658d_row15_col0, #T_5658d_row15_col1, #T_5658d_row15_col2, #T_5658d_row15_col3, #T_5658d_row15_col4, #T_5658d_row15_col5, #T_5658d_row15_col6, #T_5658d_row16_col0, #T_5658d_row16_col1, #T_5658d_row16_col2, #T_5658d_row16_col3, #T_5658d_row16_col4, #T_5658d_row16_col5, #T_5658d_row16_col6, #T_5658d_row17_col0, #T_5658d_row17_col1, #T_5658d_row17_col2, #T_5658d_row17_col3, #T_5658d_row17_col4, #T_5658d_row17_col5, #T_5658d_row17_col6, #T_5658d_row18_col0, #T_5658d_row18_col1, #T_5658d_row18_col2, #T_5658d_row18_col3, #T_5658d_row18_col4, #T_5658d_row18_col5, #T_5658d_row18_col6, #T_5658d_row19_col0, #T_5658d_row19_col1, #T_5658d_row19_col2, #T_5658d_row19_col3, #T_5658d_row19_col4, #T_5658d_row19_col5, #T_5658d_row19_col6 {\n",
       "  text-align: left;\n",
       "}\n",
       "#T_5658d_row0_col2, #T_5658d_row0_col3, #T_5658d_row0_col4, #T_5658d_row7_col1, #T_5658d_row7_col5, #T_5658d_row7_col6 {\n",
       "  text-align: left;\n",
       "  background-color: yellow;\n",
       "}\n",
       "#T_5658d_row0_col7, #T_5658d_row1_col7, #T_5658d_row2_col7, #T_5658d_row3_col7, #T_5658d_row5_col7, #T_5658d_row6_col7, #T_5658d_row7_col7, #T_5658d_row8_col7, #T_5658d_row9_col7, #T_5658d_row10_col7, #T_5658d_row11_col7, #T_5658d_row12_col7, #T_5658d_row13_col7, #T_5658d_row14_col7, #T_5658d_row15_col7, #T_5658d_row16_col7, #T_5658d_row17_col7, #T_5658d_row19_col7 {\n",
       "  text-align: left;\n",
       "  background-color: lightgrey;\n",
       "}\n",
       "#T_5658d_row4_col7, #T_5658d_row18_col7 {\n",
       "  text-align: left;\n",
       "  background-color: yellow;\n",
       "  background-color: lightgrey;\n",
       "}\n",
       "</style>\n",
       "<table id=\"T_5658d_\">\n",
       "  <thead>\n",
       "    <tr>\n",
       "      <th class=\"blank level0\" >&nbsp;</th>\n",
       "      <th class=\"col_heading level0 col0\" >Model</th>\n",
       "      <th class=\"col_heading level0 col1\" >MAE</th>\n",
       "      <th class=\"col_heading level0 col2\" >MSE</th>\n",
       "      <th class=\"col_heading level0 col3\" >RMSE</th>\n",
       "      <th class=\"col_heading level0 col4\" >R2</th>\n",
       "      <th class=\"col_heading level0 col5\" >RMSLE</th>\n",
       "      <th class=\"col_heading level0 col6\" >MAPE</th>\n",
       "      <th class=\"col_heading level0 col7\" >TT (Sec)</th>\n",
       "    </tr>\n",
       "  </thead>\n",
       "  <tbody>\n",
       "    <tr>\n",
       "      <th id=\"T_5658d_level0_row0\" class=\"row_heading level0 row0\" >br</th>\n",
       "      <td id=\"T_5658d_row0_col0\" class=\"data row0 col0\" >Bayesian Ridge</td>\n",
       "      <td id=\"T_5658d_row0_col1\" class=\"data row0 col1\" >4.8053</td>\n",
       "      <td id=\"T_5658d_row0_col2\" class=\"data row0 col2\" >43.3895</td>\n",
       "      <td id=\"T_5658d_row0_col3\" class=\"data row0 col3\" >6.4211</td>\n",
       "      <td id=\"T_5658d_row0_col4\" class=\"data row0 col4\" >0.4473</td>\n",
       "      <td id=\"T_5658d_row0_col5\" class=\"data row0 col5\" >0.2989</td>\n",
       "      <td id=\"T_5658d_row0_col6\" class=\"data row0 col6\" >0.2685</td>\n",
       "      <td id=\"T_5658d_row0_col7\" class=\"data row0 col7\" >0.0380</td>\n",
       "    </tr>\n",
       "    <tr>\n",
       "      <th id=\"T_5658d_level0_row1\" class=\"row_heading level0 row1\" >ridge</th>\n",
       "      <td id=\"T_5658d_row1_col0\" class=\"data row1 col0\" >Ridge Regression</td>\n",
       "      <td id=\"T_5658d_row1_col1\" class=\"data row1 col1\" >4.8451</td>\n",
       "      <td id=\"T_5658d_row1_col2\" class=\"data row1 col2\" >43.8265</td>\n",
       "      <td id=\"T_5658d_row1_col3\" class=\"data row1 col3\" >6.4532</td>\n",
       "      <td id=\"T_5658d_row1_col4\" class=\"data row1 col4\" >0.4391</td>\n",
       "      <td id=\"T_5658d_row1_col5\" class=\"data row1 col5\" >0.3004</td>\n",
       "      <td id=\"T_5658d_row1_col6\" class=\"data row1 col6\" >0.2707</td>\n",
       "      <td id=\"T_5658d_row1_col7\" class=\"data row1 col7\" >0.0430</td>\n",
       "    </tr>\n",
       "    <tr>\n",
       "      <th id=\"T_5658d_level0_row2\" class=\"row_heading level0 row2\" >lr</th>\n",
       "      <td id=\"T_5658d_row2_col0\" class=\"data row2 col0\" >Linear Regression</td>\n",
       "      <td id=\"T_5658d_row2_col1\" class=\"data row2 col1\" >4.8679</td>\n",
       "      <td id=\"T_5658d_row2_col2\" class=\"data row2 col2\" >44.0011</td>\n",
       "      <td id=\"T_5658d_row2_col3\" class=\"data row2 col3\" >6.4634</td>\n",
       "      <td id=\"T_5658d_row2_col4\" class=\"data row2 col4\" >0.4367</td>\n",
       "      <td id=\"T_5658d_row2_col5\" class=\"data row2 col5\" >0.3011</td>\n",
       "      <td id=\"T_5658d_row2_col6\" class=\"data row2 col6\" >0.2722</td>\n",
       "      <td id=\"T_5658d_row2_col7\" class=\"data row2 col7\" >0.9320</td>\n",
       "    </tr>\n",
       "    <tr>\n",
       "      <th id=\"T_5658d_level0_row3\" class=\"row_heading level0 row3\" >lasso</th>\n",
       "      <td id=\"T_5658d_row3_col0\" class=\"data row3 col0\" >Lasso Regression</td>\n",
       "      <td id=\"T_5658d_row3_col1\" class=\"data row3 col1\" >4.9409</td>\n",
       "      <td id=\"T_5658d_row3_col2\" class=\"data row3 col2\" >45.2112</td>\n",
       "      <td id=\"T_5658d_row3_col3\" class=\"data row3 col3\" >6.5439</td>\n",
       "      <td id=\"T_5658d_row3_col4\" class=\"data row3 col4\" >0.4360</td>\n",
       "      <td id=\"T_5658d_row3_col5\" class=\"data row3 col5\" >0.3078</td>\n",
       "      <td id=\"T_5658d_row3_col6\" class=\"data row3 col6\" >0.2795</td>\n",
       "      <td id=\"T_5658d_row3_col7\" class=\"data row3 col7\" >0.0390</td>\n",
       "    </tr>\n",
       "    <tr>\n",
       "      <th id=\"T_5658d_level0_row4\" class=\"row_heading level0 row4\" >llar</th>\n",
       "      <td id=\"T_5658d_row4_col0\" class=\"data row4 col0\" >Lasso Least Angle Regression</td>\n",
       "      <td id=\"T_5658d_row4_col1\" class=\"data row4 col1\" >4.9409</td>\n",
       "      <td id=\"T_5658d_row4_col2\" class=\"data row4 col2\" >45.2111</td>\n",
       "      <td id=\"T_5658d_row4_col3\" class=\"data row4 col3\" >6.5439</td>\n",
       "      <td id=\"T_5658d_row4_col4\" class=\"data row4 col4\" >0.4360</td>\n",
       "      <td id=\"T_5658d_row4_col5\" class=\"data row4 col5\" >0.3078</td>\n",
       "      <td id=\"T_5658d_row4_col6\" class=\"data row4 col6\" >0.2795</td>\n",
       "      <td id=\"T_5658d_row4_col7\" class=\"data row4 col7\" >0.0350</td>\n",
       "    </tr>\n",
       "    <tr>\n",
       "      <th id=\"T_5658d_level0_row5\" class=\"row_heading level0 row5\" >lar</th>\n",
       "      <td id=\"T_5658d_row5_col0\" class=\"data row5 col0\" >Least Angle Regression</td>\n",
       "      <td id=\"T_5658d_row5_col1\" class=\"data row5 col1\" >4.9076</td>\n",
       "      <td id=\"T_5658d_row5_col2\" class=\"data row5 col2\" >44.6512</td>\n",
       "      <td id=\"T_5658d_row5_col3\" class=\"data row5 col3\" >6.5043</td>\n",
       "      <td id=\"T_5658d_row5_col4\" class=\"data row5 col4\" >0.4292</td>\n",
       "      <td id=\"T_5658d_row5_col5\" class=\"data row5 col5\" >0.3024</td>\n",
       "      <td id=\"T_5658d_row5_col6\" class=\"data row5 col6\" >0.2739</td>\n",
       "      <td id=\"T_5658d_row5_col7\" class=\"data row5 col7\" >0.0440</td>\n",
       "    </tr>\n",
       "    <tr>\n",
       "      <th id=\"T_5658d_level0_row6\" class=\"row_heading level0 row6\" >en</th>\n",
       "      <td id=\"T_5658d_row6_col0\" class=\"data row6 col0\" >Elastic Net</td>\n",
       "      <td id=\"T_5658d_row6_col1\" class=\"data row6 col1\" >5.0385</td>\n",
       "      <td id=\"T_5658d_row6_col2\" class=\"data row6 col2\" >46.3223</td>\n",
       "      <td id=\"T_5658d_row6_col3\" class=\"data row6 col3\" >6.6237</td>\n",
       "      <td id=\"T_5658d_row6_col4\" class=\"data row6 col4\" >0.4260</td>\n",
       "      <td id=\"T_5658d_row6_col5\" class=\"data row6 col5\" >0.3147</td>\n",
       "      <td id=\"T_5658d_row6_col6\" class=\"data row6 col6\" >0.2911</td>\n",
       "      <td id=\"T_5658d_row6_col7\" class=\"data row6 col7\" >0.0440</td>\n",
       "    </tr>\n",
       "    <tr>\n",
       "      <th id=\"T_5658d_level0_row7\" class=\"row_heading level0 row7\" >huber</th>\n",
       "      <td id=\"T_5658d_row7_col0\" class=\"data row7 col0\" >Huber Regressor</td>\n",
       "      <td id=\"T_5658d_row7_col1\" class=\"data row7 col1\" >4.7428</td>\n",
       "      <td id=\"T_5658d_row7_col2\" class=\"data row7 col2\" >45.6521</td>\n",
       "      <td id=\"T_5658d_row7_col3\" class=\"data row7 col3\" >6.5827</td>\n",
       "      <td id=\"T_5658d_row7_col4\" class=\"data row7 col4\" >0.4243</td>\n",
       "      <td id=\"T_5658d_row7_col5\" class=\"data row7 col5\" >0.2982</td>\n",
       "      <td id=\"T_5658d_row7_col6\" class=\"data row7 col6\" >0.2457</td>\n",
       "      <td id=\"T_5658d_row7_col7\" class=\"data row7 col7\" >0.0390</td>\n",
       "    </tr>\n",
       "    <tr>\n",
       "      <th id=\"T_5658d_level0_row8\" class=\"row_heading level0 row8\" >knn</th>\n",
       "      <td id=\"T_5658d_row8_col0\" class=\"data row8 col0\" >K Neighbors Regressor</td>\n",
       "      <td id=\"T_5658d_row8_col1\" class=\"data row8 col1\" >4.9556</td>\n",
       "      <td id=\"T_5658d_row8_col2\" class=\"data row8 col2\" >47.1492</td>\n",
       "      <td id=\"T_5658d_row8_col3\" class=\"data row8 col3\" >6.6947</td>\n",
       "      <td id=\"T_5658d_row8_col4\" class=\"data row8 col4\" >0.3945</td>\n",
       "      <td id=\"T_5658d_row8_col5\" class=\"data row8 col5\" >0.3119</td>\n",
       "      <td id=\"T_5658d_row8_col6\" class=\"data row8 col6\" >0.2745</td>\n",
       "      <td id=\"T_5658d_row8_col7\" class=\"data row8 col7\" >0.0510</td>\n",
       "    </tr>\n",
       "    <tr>\n",
       "      <th id=\"T_5658d_level0_row9\" class=\"row_heading level0 row9\" >lightgbm</th>\n",
       "      <td id=\"T_5658d_row9_col0\" class=\"data row9 col0\" >Light Gradient Boosting Machine</td>\n",
       "      <td id=\"T_5658d_row9_col1\" class=\"data row9 col1\" >5.2369</td>\n",
       "      <td id=\"T_5658d_row9_col2\" class=\"data row9 col2\" >48.8271</td>\n",
       "      <td id=\"T_5658d_row9_col3\" class=\"data row9 col3\" >6.8484</td>\n",
       "      <td id=\"T_5658d_row9_col4\" class=\"data row9 col4\" >0.3616</td>\n",
       "      <td id=\"T_5658d_row9_col5\" class=\"data row9 col5\" >0.3158</td>\n",
       "      <td id=\"T_5658d_row9_col6\" class=\"data row9 col6\" >0.2925</td>\n",
       "      <td id=\"T_5658d_row9_col7\" class=\"data row9 col7\" >0.0730</td>\n",
       "    </tr>\n",
       "    <tr>\n",
       "      <th id=\"T_5658d_level0_row10\" class=\"row_heading level0 row10\" >omp</th>\n",
       "      <td id=\"T_5658d_row10_col0\" class=\"data row10 col0\" >Orthogonal Matching Pursuit</td>\n",
       "      <td id=\"T_5658d_row10_col1\" class=\"data row10 col1\" >5.1015</td>\n",
       "      <td id=\"T_5658d_row10_col2\" class=\"data row10 col2\" >49.4843</td>\n",
       "      <td id=\"T_5658d_row10_col3\" class=\"data row10 col3\" >6.8800</td>\n",
       "      <td id=\"T_5658d_row10_col4\" class=\"data row10 col4\" >0.3575</td>\n",
       "      <td id=\"T_5658d_row10_col5\" class=\"data row10 col5\" >0.3249</td>\n",
       "      <td id=\"T_5658d_row10_col6\" class=\"data row10 col6\" >0.2906</td>\n",
       "      <td id=\"T_5658d_row10_col7\" class=\"data row10 col7\" >0.0370</td>\n",
       "    </tr>\n",
       "    <tr>\n",
       "      <th id=\"T_5658d_level0_row11\" class=\"row_heading level0 row11\" >catboost</th>\n",
       "      <td id=\"T_5658d_row11_col0\" class=\"data row11 col0\" >CatBoost Regressor</td>\n",
       "      <td id=\"T_5658d_row11_col1\" class=\"data row11 col1\" >5.4880</td>\n",
       "      <td id=\"T_5658d_row11_col2\" class=\"data row11 col2\" >53.8151</td>\n",
       "      <td id=\"T_5658d_row11_col3\" class=\"data row11 col3\" >7.2483</td>\n",
       "      <td id=\"T_5658d_row11_col4\" class=\"data row11 col4\" >0.2718</td>\n",
       "      <td id=\"T_5658d_row11_col5\" class=\"data row11 col5\" >0.3305</td>\n",
       "      <td id=\"T_5658d_row11_col6\" class=\"data row11 col6\" >0.2972</td>\n",
       "      <td id=\"T_5658d_row11_col7\" class=\"data row11 col7\" >0.4490</td>\n",
       "    </tr>\n",
       "    <tr>\n",
       "      <th id=\"T_5658d_level0_row12\" class=\"row_heading level0 row12\" >rf</th>\n",
       "      <td id=\"T_5658d_row12_col0\" class=\"data row12 col0\" >Random Forest Regressor</td>\n",
       "      <td id=\"T_5658d_row12_col1\" class=\"data row12 col1\" >5.5147</td>\n",
       "      <td id=\"T_5658d_row12_col2\" class=\"data row12 col2\" >52.9274</td>\n",
       "      <td id=\"T_5658d_row12_col3\" class=\"data row12 col3\" >7.1823</td>\n",
       "      <td id=\"T_5658d_row12_col4\" class=\"data row12 col4\" >0.2696</td>\n",
       "      <td id=\"T_5658d_row12_col5\" class=\"data row12 col5\" >0.3346</td>\n",
       "      <td id=\"T_5658d_row12_col6\" class=\"data row12 col6\" >0.3135</td>\n",
       "      <td id=\"T_5658d_row12_col7\" class=\"data row12 col7\" >0.1110</td>\n",
       "    </tr>\n",
       "    <tr>\n",
       "      <th id=\"T_5658d_level0_row13\" class=\"row_heading level0 row13\" >gbr</th>\n",
       "      <td id=\"T_5658d_row13_col0\" class=\"data row13 col0\" >Gradient Boosting Regressor</td>\n",
       "      <td id=\"T_5658d_row13_col1\" class=\"data row13 col1\" >5.5054</td>\n",
       "      <td id=\"T_5658d_row13_col2\" class=\"data row13 col2\" >54.2349</td>\n",
       "      <td id=\"T_5658d_row13_col3\" class=\"data row13 col3\" >7.2702</td>\n",
       "      <td id=\"T_5658d_row13_col4\" class=\"data row13 col4\" >0.2608</td>\n",
       "      <td id=\"T_5658d_row13_col5\" class=\"data row13 col5\" >0.3355</td>\n",
       "      <td id=\"T_5658d_row13_col6\" class=\"data row13 col6\" >0.2931</td>\n",
       "      <td id=\"T_5658d_row13_col7\" class=\"data row13 col7\" >0.0610</td>\n",
       "    </tr>\n",
       "    <tr>\n",
       "      <th id=\"T_5658d_level0_row14\" class=\"row_heading level0 row14\" >ada</th>\n",
       "      <td id=\"T_5658d_row14_col0\" class=\"data row14 col0\" >AdaBoost Regressor</td>\n",
       "      <td id=\"T_5658d_row14_col1\" class=\"data row14 col1\" >5.8173</td>\n",
       "      <td id=\"T_5658d_row14_col2\" class=\"data row14 col2\" >55.5753</td>\n",
       "      <td id=\"T_5658d_row14_col3\" class=\"data row14 col3\" >7.3518</td>\n",
       "      <td id=\"T_5658d_row14_col4\" class=\"data row14 col4\" >0.2547</td>\n",
       "      <td id=\"T_5658d_row14_col5\" class=\"data row14 col5\" >0.3548</td>\n",
       "      <td id=\"T_5658d_row14_col6\" class=\"data row14 col6\" >0.3572</td>\n",
       "      <td id=\"T_5658d_row14_col7\" class=\"data row14 col7\" >0.0590</td>\n",
       "    </tr>\n",
       "    <tr>\n",
       "      <th id=\"T_5658d_level0_row15\" class=\"row_heading level0 row15\" >et</th>\n",
       "      <td id=\"T_5658d_row15_col0\" class=\"data row15 col0\" >Extra Trees Regressor</td>\n",
       "      <td id=\"T_5658d_row15_col1\" class=\"data row15 col1\" >6.0797</td>\n",
       "      <td id=\"T_5658d_row15_col2\" class=\"data row15 col2\" >63.3428</td>\n",
       "      <td id=\"T_5658d_row15_col3\" class=\"data row15 col3\" >7.9070</td>\n",
       "      <td id=\"T_5658d_row15_col4\" class=\"data row15 col4\" >0.1290</td>\n",
       "      <td id=\"T_5658d_row15_col5\" class=\"data row15 col5\" >0.3641</td>\n",
       "      <td id=\"T_5658d_row15_col6\" class=\"data row15 col6\" >0.3388</td>\n",
       "      <td id=\"T_5658d_row15_col7\" class=\"data row15 col7\" >0.0930</td>\n",
       "    </tr>\n",
       "    <tr>\n",
       "      <th id=\"T_5658d_level0_row16\" class=\"row_heading level0 row16\" >xgboost</th>\n",
       "      <td id=\"T_5658d_row16_col0\" class=\"data row16 col0\" >Extreme Gradient Boosting</td>\n",
       "      <td id=\"T_5658d_row16_col1\" class=\"data row16 col1\" >5.9572</td>\n",
       "      <td id=\"T_5658d_row16_col2\" class=\"data row16 col2\" >64.1753</td>\n",
       "      <td id=\"T_5658d_row16_col3\" class=\"data row16 col3\" >7.9456</td>\n",
       "      <td id=\"T_5658d_row16_col4\" class=\"data row16 col4\" >0.0884</td>\n",
       "      <td id=\"T_5658d_row16_col5\" class=\"data row16 col5\" >0.3601</td>\n",
       "      <td id=\"T_5658d_row16_col6\" class=\"data row16 col6\" >0.3143</td>\n",
       "      <td id=\"T_5658d_row16_col7\" class=\"data row16 col7\" >0.0530</td>\n",
       "    </tr>\n",
       "    <tr>\n",
       "      <th id=\"T_5658d_level0_row17\" class=\"row_heading level0 row17\" >dt</th>\n",
       "      <td id=\"T_5658d_row17_col0\" class=\"data row17 col0\" >Decision Tree Regressor</td>\n",
       "      <td id=\"T_5658d_row17_col1\" class=\"data row17 col1\" >6.2865</td>\n",
       "      <td id=\"T_5658d_row17_col2\" class=\"data row17 col2\" >70.9817</td>\n",
       "      <td id=\"T_5658d_row17_col3\" class=\"data row17 col3\" >8.3522</td>\n",
       "      <td id=\"T_5658d_row17_col4\" class=\"data row17 col4\" >0.0251</td>\n",
       "      <td id=\"T_5658d_row17_col5\" class=\"data row17 col5\" >0.4038</td>\n",
       "      <td id=\"T_5658d_row17_col6\" class=\"data row17 col6\" >0.3509</td>\n",
       "      <td id=\"T_5658d_row17_col7\" class=\"data row17 col7\" >0.0370</td>\n",
       "    </tr>\n",
       "    <tr>\n",
       "      <th id=\"T_5658d_level0_row18\" class=\"row_heading level0 row18\" >par</th>\n",
       "      <td id=\"T_5658d_row18_col0\" class=\"data row18 col0\" >Passive Aggressive Regressor</td>\n",
       "      <td id=\"T_5658d_row18_col1\" class=\"data row18 col1\" >6.7608</td>\n",
       "      <td id=\"T_5658d_row18_col2\" class=\"data row18 col2\" >72.0748</td>\n",
       "      <td id=\"T_5658d_row18_col3\" class=\"data row18 col3\" >8.2580</td>\n",
       "      <td id=\"T_5658d_row18_col4\" class=\"data row18 col4\" >0.0227</td>\n",
       "      <td id=\"T_5658d_row18_col5\" class=\"data row18 col5\" >0.3722</td>\n",
       "      <td id=\"T_5658d_row18_col6\" class=\"data row18 col6\" >0.4026</td>\n",
       "      <td id=\"T_5658d_row18_col7\" class=\"data row18 col7\" >0.0350</td>\n",
       "    </tr>\n",
       "    <tr>\n",
       "      <th id=\"T_5658d_level0_row19\" class=\"row_heading level0 row19\" >dummy</th>\n",
       "      <td id=\"T_5658d_row19_col0\" class=\"data row19 col0\" >Dummy Regressor</td>\n",
       "      <td id=\"T_5658d_row19_col1\" class=\"data row19 col1\" >7.3046</td>\n",
       "      <td id=\"T_5658d_row19_col2\" class=\"data row19 col2\" >86.6065</td>\n",
       "      <td id=\"T_5658d_row19_col3\" class=\"data row19 col3\" >9.0751</td>\n",
       "      <td id=\"T_5658d_row19_col4\" class=\"data row19 col4\" >-0.0610</td>\n",
       "      <td id=\"T_5658d_row19_col5\" class=\"data row19 col5\" >0.4298</td>\n",
       "      <td id=\"T_5658d_row19_col6\" class=\"data row19 col6\" >0.4436</td>\n",
       "      <td id=\"T_5658d_row19_col7\" class=\"data row19 col7\" >0.0410</td>\n",
       "    </tr>\n",
       "  </tbody>\n",
       "</table>\n"
      ],
      "text/plain": [
       "<pandas.io.formats.style.Styler at 0x1ec3b80b820>"
      ]
     },
     "metadata": {},
     "output_type": "display_data"
    },
    {
     "data": {
      "application/vnd.jupyter.widget-view+json": {
       "model_id": "",
       "version_major": 2,
       "version_minor": 0
      },
      "text/plain": [
       "Processing:   0%|          | 0/85 [00:00<?, ?it/s]"
      ]
     },
     "metadata": {},
     "output_type": "display_data"
    },
    {
     "data": {
      "text/html": [
       "<style>#sk-container-id-1 {color: black;background-color: white;}#sk-container-id-1 pre{padding: 0;}#sk-container-id-1 div.sk-toggleable {background-color: white;}#sk-container-id-1 label.sk-toggleable__label {cursor: pointer;display: block;width: 100%;margin-bottom: 0;padding: 0.3em;box-sizing: border-box;text-align: center;}#sk-container-id-1 label.sk-toggleable__label-arrow:before {content: \"▸\";float: left;margin-right: 0.25em;color: #696969;}#sk-container-id-1 label.sk-toggleable__label-arrow:hover:before {color: black;}#sk-container-id-1 div.sk-estimator:hover label.sk-toggleable__label-arrow:before {color: black;}#sk-container-id-1 div.sk-toggleable__content {max-height: 0;max-width: 0;overflow: hidden;text-align: left;background-color: #f0f8ff;}#sk-container-id-1 div.sk-toggleable__content pre {margin: 0.2em;color: black;border-radius: 0.25em;background-color: #f0f8ff;}#sk-container-id-1 input.sk-toggleable__control:checked~div.sk-toggleable__content {max-height: 200px;max-width: 100%;overflow: auto;}#sk-container-id-1 input.sk-toggleable__control:checked~label.sk-toggleable__label-arrow:before {content: \"▾\";}#sk-container-id-1 div.sk-estimator input.sk-toggleable__control:checked~label.sk-toggleable__label {background-color: #d4ebff;}#sk-container-id-1 div.sk-label input.sk-toggleable__control:checked~label.sk-toggleable__label {background-color: #d4ebff;}#sk-container-id-1 input.sk-hidden--visually {border: 0;clip: rect(1px 1px 1px 1px);clip: rect(1px, 1px, 1px, 1px);height: 1px;margin: -1px;overflow: hidden;padding: 0;position: absolute;width: 1px;}#sk-container-id-1 div.sk-estimator {font-family: monospace;background-color: #f0f8ff;border: 1px dotted black;border-radius: 0.25em;box-sizing: border-box;margin-bottom: 0.5em;}#sk-container-id-1 div.sk-estimator:hover {background-color: #d4ebff;}#sk-container-id-1 div.sk-parallel-item::after {content: \"\";width: 100%;border-bottom: 1px solid gray;flex-grow: 1;}#sk-container-id-1 div.sk-label:hover label.sk-toggleable__label {background-color: #d4ebff;}#sk-container-id-1 div.sk-serial::before {content: \"\";position: absolute;border-left: 1px solid gray;box-sizing: border-box;top: 0;bottom: 0;left: 50%;z-index: 0;}#sk-container-id-1 div.sk-serial {display: flex;flex-direction: column;align-items: center;background-color: white;padding-right: 0.2em;padding-left: 0.2em;position: relative;}#sk-container-id-1 div.sk-item {position: relative;z-index: 1;}#sk-container-id-1 div.sk-parallel {display: flex;align-items: stretch;justify-content: center;background-color: white;position: relative;}#sk-container-id-1 div.sk-item::before, #sk-container-id-1 div.sk-parallel-item::before {content: \"\";position: absolute;border-left: 1px solid gray;box-sizing: border-box;top: 0;bottom: 0;left: 50%;z-index: -1;}#sk-container-id-1 div.sk-parallel-item {display: flex;flex-direction: column;z-index: 1;position: relative;background-color: white;}#sk-container-id-1 div.sk-parallel-item:first-child::after {align-self: flex-end;width: 50%;}#sk-container-id-1 div.sk-parallel-item:last-child::after {align-self: flex-start;width: 50%;}#sk-container-id-1 div.sk-parallel-item:only-child::after {width: 0;}#sk-container-id-1 div.sk-dashed-wrapped {border: 1px dashed gray;margin: 0 0.4em 0.5em 0.4em;box-sizing: border-box;padding-bottom: 0.4em;background-color: white;}#sk-container-id-1 div.sk-label label {font-family: monospace;font-weight: bold;display: inline-block;line-height: 1.2em;}#sk-container-id-1 div.sk-label-container {text-align: center;}#sk-container-id-1 div.sk-container {/* jupyter's `normalize.less` sets `[hidden] { display: none; }` but bootstrap.min.css set `[hidden] { display: none !important; }` so we also need the `!important` here to be able to override the default hidden behavior on the sphinx rendered scikit-learn.org. See: https://github.com/scikit-learn/scikit-learn/issues/21755 */display: inline-block !important;position: relative;}#sk-container-id-1 div.sk-text-repr-fallback {display: none;}</style><div id=\"sk-container-id-1\" class=\"sk-top-container\"><div class=\"sk-text-repr-fallback\"><pre>BayesianRidge()</pre><b>In a Jupyter environment, please rerun this cell to show the HTML representation or trust the notebook. <br />On GitHub, the HTML representation is unable to render, please try loading this page with nbviewer.org.</b></div><div class=\"sk-container\" hidden><div class=\"sk-item\"><div class=\"sk-estimator sk-toggleable\"><input class=\"sk-toggleable__control sk-hidden--visually\" id=\"sk-estimator-id-1\" type=\"checkbox\" checked><label for=\"sk-estimator-id-1\" class=\"sk-toggleable__label sk-toggleable__label-arrow\">BayesianRidge</label><div class=\"sk-toggleable__content\"><pre>BayesianRidge()</pre></div></div></div></div></div>"
      ],
      "text/plain": [
       "BayesianRidge()"
      ]
     },
     "execution_count": 30,
     "metadata": {},
     "output_type": "execute_result"
    }
   ],
   "source": [
    "compare_models()"
   ]
  },
  {
   "cell_type": "code",
   "execution_count": 31,
   "id": "15a0e375",
   "metadata": {},
   "outputs": [],
   "source": [
    "# croos over best model"
   ]
  },
  {
   "cell_type": "code",
   "execution_count": 32,
   "id": "6fcd7321",
   "metadata": {},
   "outputs": [
    {
     "data": {
      "text/html": [],
      "text/plain": [
       "<IPython.core.display.HTML object>"
      ]
     },
     "metadata": {},
     "output_type": "display_data"
    },
    {
     "data": {
      "text/html": [
       "<style type=\"text/css\">\n",
       "#T_a0b2b_row10_col0, #T_a0b2b_row10_col1, #T_a0b2b_row10_col2, #T_a0b2b_row10_col3, #T_a0b2b_row10_col4, #T_a0b2b_row10_col5 {\n",
       "  background: yellow;\n",
       "}\n",
       "</style>\n",
       "<table id=\"T_a0b2b_\">\n",
       "  <thead>\n",
       "    <tr>\n",
       "      <th class=\"blank level0\" >&nbsp;</th>\n",
       "      <th class=\"col_heading level0 col0\" >MAE</th>\n",
       "      <th class=\"col_heading level0 col1\" >MSE</th>\n",
       "      <th class=\"col_heading level0 col2\" >RMSE</th>\n",
       "      <th class=\"col_heading level0 col3\" >R2</th>\n",
       "      <th class=\"col_heading level0 col4\" >RMSLE</th>\n",
       "      <th class=\"col_heading level0 col5\" >MAPE</th>\n",
       "    </tr>\n",
       "    <tr>\n",
       "      <th class=\"index_name level0\" >Fold</th>\n",
       "      <th class=\"blank col0\" >&nbsp;</th>\n",
       "      <th class=\"blank col1\" >&nbsp;</th>\n",
       "      <th class=\"blank col2\" >&nbsp;</th>\n",
       "      <th class=\"blank col3\" >&nbsp;</th>\n",
       "      <th class=\"blank col4\" >&nbsp;</th>\n",
       "      <th class=\"blank col5\" >&nbsp;</th>\n",
       "    </tr>\n",
       "  </thead>\n",
       "  <tbody>\n",
       "    <tr>\n",
       "      <th id=\"T_a0b2b_level0_row0\" class=\"row_heading level0 row0\" >0</th>\n",
       "      <td id=\"T_a0b2b_row0_col0\" class=\"data row0 col0\" >3.1314</td>\n",
       "      <td id=\"T_a0b2b_row0_col1\" class=\"data row0 col1\" >16.9109</td>\n",
       "      <td id=\"T_a0b2b_row0_col2\" class=\"data row0 col2\" >4.1123</td>\n",
       "      <td id=\"T_a0b2b_row0_col3\" class=\"data row0 col3\" >0.7237</td>\n",
       "      <td id=\"T_a0b2b_row0_col4\" class=\"data row0 col4\" >0.1837</td>\n",
       "      <td id=\"T_a0b2b_row0_col5\" class=\"data row0 col5\" >0.1579</td>\n",
       "    </tr>\n",
       "    <tr>\n",
       "      <th id=\"T_a0b2b_level0_row1\" class=\"row_heading level0 row1\" >1</th>\n",
       "      <td id=\"T_a0b2b_row1_col0\" class=\"data row1 col0\" >3.5620</td>\n",
       "      <td id=\"T_a0b2b_row1_col1\" class=\"data row1 col1\" >16.9850</td>\n",
       "      <td id=\"T_a0b2b_row1_col2\" class=\"data row1 col2\" >4.1213</td>\n",
       "      <td id=\"T_a0b2b_row1_col3\" class=\"data row1 col3\" >0.6101</td>\n",
       "      <td id=\"T_a0b2b_row1_col4\" class=\"data row1 col4\" >0.2388</td>\n",
       "      <td id=\"T_a0b2b_row1_col5\" class=\"data row1 col5\" >0.2307</td>\n",
       "    </tr>\n",
       "    <tr>\n",
       "      <th id=\"T_a0b2b_level0_row2\" class=\"row_heading level0 row2\" >2</th>\n",
       "      <td id=\"T_a0b2b_row2_col0\" class=\"data row2 col0\" >4.3513</td>\n",
       "      <td id=\"T_a0b2b_row2_col1\" class=\"data row2 col1\" >33.3762</td>\n",
       "      <td id=\"T_a0b2b_row2_col2\" class=\"data row2 col2\" >5.7772</td>\n",
       "      <td id=\"T_a0b2b_row2_col3\" class=\"data row2 col3\" >0.2611</td>\n",
       "      <td id=\"T_a0b2b_row2_col4\" class=\"data row2 col4\" >0.3774</td>\n",
       "      <td id=\"T_a0b2b_row2_col5\" class=\"data row2 col5\" >0.3476</td>\n",
       "    </tr>\n",
       "    <tr>\n",
       "      <th id=\"T_a0b2b_level0_row3\" class=\"row_heading level0 row3\" >3</th>\n",
       "      <td id=\"T_a0b2b_row3_col0\" class=\"data row3 col0\" >6.2562</td>\n",
       "      <td id=\"T_a0b2b_row3_col1\" class=\"data row3 col1\" >70.9792</td>\n",
       "      <td id=\"T_a0b2b_row3_col2\" class=\"data row3 col2\" >8.4249</td>\n",
       "      <td id=\"T_a0b2b_row3_col3\" class=\"data row3 col3\" >0.3006</td>\n",
       "      <td id=\"T_a0b2b_row3_col4\" class=\"data row3 col4\" >0.3013</td>\n",
       "      <td id=\"T_a0b2b_row3_col5\" class=\"data row3 col5\" >0.2422</td>\n",
       "    </tr>\n",
       "    <tr>\n",
       "      <th id=\"T_a0b2b_level0_row4\" class=\"row_heading level0 row4\" >4</th>\n",
       "      <td id=\"T_a0b2b_row4_col0\" class=\"data row4 col0\" >5.7294</td>\n",
       "      <td id=\"T_a0b2b_row4_col1\" class=\"data row4 col1\" >52.9270</td>\n",
       "      <td id=\"T_a0b2b_row4_col2\" class=\"data row4 col2\" >7.2751</td>\n",
       "      <td id=\"T_a0b2b_row4_col3\" class=\"data row4 col3\" >0.5233</td>\n",
       "      <td id=\"T_a0b2b_row4_col4\" class=\"data row4 col4\" >0.2913</td>\n",
       "      <td id=\"T_a0b2b_row4_col5\" class=\"data row4 col5\" >0.2785</td>\n",
       "    </tr>\n",
       "    <tr>\n",
       "      <th id=\"T_a0b2b_level0_row5\" class=\"row_heading level0 row5\" >5</th>\n",
       "      <td id=\"T_a0b2b_row5_col0\" class=\"data row5 col0\" >4.6182</td>\n",
       "      <td id=\"T_a0b2b_row5_col1\" class=\"data row5 col1\" >46.0849</td>\n",
       "      <td id=\"T_a0b2b_row5_col2\" class=\"data row5 col2\" >6.7886</td>\n",
       "      <td id=\"T_a0b2b_row5_col3\" class=\"data row5 col3\" >0.1339</td>\n",
       "      <td id=\"T_a0b2b_row5_col4\" class=\"data row5 col4\" >0.3618</td>\n",
       "      <td id=\"T_a0b2b_row5_col5\" class=\"data row5 col5\" >0.3381</td>\n",
       "    </tr>\n",
       "    <tr>\n",
       "      <th id=\"T_a0b2b_level0_row6\" class=\"row_heading level0 row6\" >6</th>\n",
       "      <td id=\"T_a0b2b_row6_col0\" class=\"data row6 col0\" >6.4903</td>\n",
       "      <td id=\"T_a0b2b_row6_col1\" class=\"data row6 col1\" >67.9115</td>\n",
       "      <td id=\"T_a0b2b_row6_col2\" class=\"data row6 col2\" >8.2408</td>\n",
       "      <td id=\"T_a0b2b_row6_col3\" class=\"data row6 col3\" >0.6113</td>\n",
       "      <td id=\"T_a0b2b_row6_col4\" class=\"data row6 col4\" >0.3355</td>\n",
       "      <td id=\"T_a0b2b_row6_col5\" class=\"data row6 col5\" >0.3095</td>\n",
       "    </tr>\n",
       "    <tr>\n",
       "      <th id=\"T_a0b2b_level0_row7\" class=\"row_heading level0 row7\" >7</th>\n",
       "      <td id=\"T_a0b2b_row7_col0\" class=\"data row7 col0\" >4.1484</td>\n",
       "      <td id=\"T_a0b2b_row7_col1\" class=\"data row7 col1\" >28.2061</td>\n",
       "      <td id=\"T_a0b2b_row7_col2\" class=\"data row7 col2\" >5.3109</td>\n",
       "      <td id=\"T_a0b2b_row7_col3\" class=\"data row7 col3\" >0.5368</td>\n",
       "      <td id=\"T_a0b2b_row7_col4\" class=\"data row7 col4\" >0.2352</td>\n",
       "      <td id=\"T_a0b2b_row7_col5\" class=\"data row7 col5\" >0.1969</td>\n",
       "    </tr>\n",
       "    <tr>\n",
       "      <th id=\"T_a0b2b_level0_row8\" class=\"row_heading level0 row8\" >8</th>\n",
       "      <td id=\"T_a0b2b_row8_col0\" class=\"data row8 col0\" >5.4941</td>\n",
       "      <td id=\"T_a0b2b_row8_col1\" class=\"data row8 col1\" >55.3718</td>\n",
       "      <td id=\"T_a0b2b_row8_col2\" class=\"data row8 col2\" >7.4412</td>\n",
       "      <td id=\"T_a0b2b_row8_col3\" class=\"data row8 col3\" >0.3846</td>\n",
       "      <td id=\"T_a0b2b_row8_col4\" class=\"data row8 col4\" >0.3565</td>\n",
       "      <td id=\"T_a0b2b_row8_col5\" class=\"data row8 col5\" >0.3190</td>\n",
       "    </tr>\n",
       "    <tr>\n",
       "      <th id=\"T_a0b2b_level0_row9\" class=\"row_heading level0 row9\" >9</th>\n",
       "      <td id=\"T_a0b2b_row9_col0\" class=\"data row9 col0\" >4.2714</td>\n",
       "      <td id=\"T_a0b2b_row9_col1\" class=\"data row9 col1\" >45.1430</td>\n",
       "      <td id=\"T_a0b2b_row9_col2\" class=\"data row9 col2\" >6.7189</td>\n",
       "      <td id=\"T_a0b2b_row9_col3\" class=\"data row9 col3\" >0.3879</td>\n",
       "      <td id=\"T_a0b2b_row9_col4\" class=\"data row9 col4\" >0.3075</td>\n",
       "      <td id=\"T_a0b2b_row9_col5\" class=\"data row9 col5\" >0.2642</td>\n",
       "    </tr>\n",
       "    <tr>\n",
       "      <th id=\"T_a0b2b_level0_row10\" class=\"row_heading level0 row10\" >Mean</th>\n",
       "      <td id=\"T_a0b2b_row10_col0\" class=\"data row10 col0\" >4.8053</td>\n",
       "      <td id=\"T_a0b2b_row10_col1\" class=\"data row10 col1\" >43.3895</td>\n",
       "      <td id=\"T_a0b2b_row10_col2\" class=\"data row10 col2\" >6.4211</td>\n",
       "      <td id=\"T_a0b2b_row10_col3\" class=\"data row10 col3\" >0.4473</td>\n",
       "      <td id=\"T_a0b2b_row10_col4\" class=\"data row10 col4\" >0.2989</td>\n",
       "      <td id=\"T_a0b2b_row10_col5\" class=\"data row10 col5\" >0.2685</td>\n",
       "    </tr>\n",
       "    <tr>\n",
       "      <th id=\"T_a0b2b_level0_row11\" class=\"row_heading level0 row11\" >Std</th>\n",
       "      <td id=\"T_a0b2b_row11_col0\" class=\"data row11 col0\" >1.0760</td>\n",
       "      <td id=\"T_a0b2b_row11_col1\" class=\"data row11 col1\" >18.2661</td>\n",
       "      <td id=\"T_a0b2b_row11_col2\" class=\"data row11 col2\" >1.4693</td>\n",
       "      <td id=\"T_a0b2b_row11_col3\" class=\"data row11 col3\" >0.1748</td>\n",
       "      <td id=\"T_a0b2b_row11_col4\" class=\"data row11 col4\" >0.0599</td>\n",
       "      <td id=\"T_a0b2b_row11_col5\" class=\"data row11 col5\" >0.0591</td>\n",
       "    </tr>\n",
       "  </tbody>\n",
       "</table>\n"
      ],
      "text/plain": [
       "<pandas.io.formats.style.Styler at 0x1ec3bc87760>"
      ]
     },
     "metadata": {},
     "output_type": "display_data"
    },
    {
     "data": {
      "application/vnd.jupyter.widget-view+json": {
       "model_id": "",
       "version_major": 2,
       "version_minor": 0
      },
      "text/plain": [
       "Processing:   0%|          | 0/4 [00:00<?, ?it/s]"
      ]
     },
     "metadata": {},
     "output_type": "display_data"
    }
   ],
   "source": [
    "best_model = create_model('br')"
   ]
  },
  {
   "cell_type": "code",
   "execution_count": 33,
   "id": "5f40c287",
   "metadata": {},
   "outputs": [],
   "source": [
    "#model save"
   ]
  },
  {
   "cell_type": "code",
   "execution_count": 34,
   "id": "475ae919",
   "metadata": {},
   "outputs": [
    {
     "data": {
      "text/plain": [
       "['model_total_bill.joblib']"
      ]
     },
     "execution_count": 34,
     "metadata": {},
     "output_type": "execute_result"
    }
   ],
   "source": [
    "joblib.dump(best_model,\"model_total_bill.joblib\")"
   ]
  },
  {
   "cell_type": "code",
   "execution_count": 35,
   "id": "64fecb1f",
   "metadata": {},
   "outputs": [],
   "source": [
    "#sources"
   ]
  },
  {
   "cell_type": "markdown",
   "id": "271503d8",
   "metadata": {},
   "source": [
    "-Zafer Acar Notes"
   ]
  }
 ],
 "metadata": {
  "kernelspec": {
   "display_name": "Python 3 (ipykernel)",
   "language": "python",
   "name": "python3"
  },
  "language_info": {
   "codemirror_mode": {
    "name": "ipython",
    "version": 3
   },
   "file_extension": ".py",
   "mimetype": "text/x-python",
   "name": "python",
   "nbconvert_exporter": "python",
   "pygments_lexer": "ipython3",
   "version": "3.9.13"
  }
 },
 "nbformat": 4,
 "nbformat_minor": 5
}
